{
 "cells": [
  {
   "cell_type": "markdown",
   "id": "4521a7a9-df38-4e3b-a172-d5635d6ce6a4",
   "metadata": {},
   "source": [
    "## Music Recommendation System\n",
    "\n",
    "This notebook implements a simple music recommendation system that suggests songs based on a specified emotion cluster and language. It uses two datasets, one for English songs and one for Telugu songs, to recommend songs matching the user's emotional state."
   ]
  },
  {
   "cell_type": "markdown",
   "id": "ea05fd4b-116b-4ff1-9f59-0a27cff44c2c",
   "metadata": {},
   "source": [
    "This section imports the pandas library, which is used for loading and manipulating the song datasets."
   ]
  },
  {
   "cell_type": "code",
   "execution_count": 1,
   "id": "16fb04c6-5531-4245-b6f9-5e5b70fc10f7",
   "metadata": {},
   "outputs": [],
   "source": [
    "import pandas as pd"
   ]
  },
  {
   "cell_type": "markdown",
   "id": "479412c7-cc21-4266-8dcc-93077b3b8567",
   "metadata": {},
   "source": [
    "The English and Telugu song datasets (songs_dataset_en.csv and songs_dataset_te.csv) are loaded into separate DataFrames for processing."
   ]
  },
  {
   "cell_type": "code",
   "execution_count": 2,
   "id": "d73cca42-c3bb-4317-b48a-6d63556389fe",
   "metadata": {},
   "outputs": [],
   "source": [
    "songs_dataset_en = pd.read_csv(\"songs_dataset_en.csv\")\n",
    "songs_dataset_te = pd.read_csv(\"songs_dataset_te.csv\")"
   ]
  },
  {
   "cell_type": "markdown",
   "id": "3f338686-dcb3-42f9-b3f6-51f367371b39",
   "metadata": {},
   "source": [
    "A function get_songs_by_emotion is defined to filter songs by a specified emotion cluster and language (English or Telugu). It returns a random sample of up to top_n songs with their titles, artists, and genres."
   ]
  },
  {
   "cell_type": "code",
   "execution_count": 3,
   "id": "957098ed-61f2-464b-9f6b-e02b9a088bb0",
   "metadata": {},
   "outputs": [],
   "source": [
    "def get_songs_by_emotion(emotion, language=\"English\", top_n=5):\n",
    "    \n",
    "    if language.lower() == \"telugu\":\n",
    "        df = songs_dataset_te\n",
    "    elif language.lower() == \"english\":\n",
    "        df = songs_dataset_en\n",
    "    else:\n",
    "        raise ValueError(\"Unsupported language. Choose 'English' or 'Telugu'.\")    \n",
    "\n",
    "    filtered = df[df['emotion_cluster'].str.lower() == emotion.lower()]\n",
    "    shuffled = filtered.sample(n=min(top_n, len(filtered)))  \n",
    "    return shuffled[['song_title', 'artist', 'genre']]"
   ]
  },
  {
   "cell_type": "markdown",
   "id": "e02c47a3-64a1-4b9a-ba84-f3d7ffa1ab6a",
   "metadata": {},
   "source": [
    "This section demonstrates the recommendation system by selecting songs for a given emotion cluster in a specified language and displaying the results."
   ]
  },
  {
   "cell_type": "code",
   "execution_count": 4,
   "id": "2a001857-141d-4b70-a604-7b9d9bae7feb",
   "metadata": {},
   "outputs": [
    {
     "name": "stdout",
     "output_type": "stream",
     "text": [
      "Songs for CALM in Telugu\n",
      "            song_title                     artist                      genre\n",
      "41         Niluvaddham                    Karthik        Romantic Festival  \n",
      "43    Em Sandeham Ledu  Kalyani Malik and Sunitha  Spiritual Inspirational  \n",
      "44  Monna Kanipinchavu             Harris Jayaraj         Uplifting Chorus  \n",
      "47           O Cheliya               Unnikrishnan          Energetic Dance  \n",
      "40          Inthandham                 S.P.Charan               Peppy Folk  \n"
     ]
    }
   ],
   "source": [
    "predicted_emotion = \"calm\"\n",
    "selected_language = \"Telugu\"\n",
    "\n",
    "print(\"Songs for\", predicted_emotion.upper(), \"in\", selected_language)\n",
    "print(get_songs_by_emotion(predicted_emotion, selected_language))"
   ]
  }
 ],
 "metadata": {
  "kernelspec": {
   "display_name": "Python 3 (ipykernel)",
   "language": "python",
   "name": "python3"
  },
  "language_info": {
   "codemirror_mode": {
    "name": "ipython",
    "version": 3
   },
   "file_extension": ".py",
   "mimetype": "text/x-python",
   "name": "python",
   "nbconvert_exporter": "python",
   "pygments_lexer": "ipython3",
   "version": "3.13.5"
  }
 },
 "nbformat": 4,
 "nbformat_minor": 5
}
