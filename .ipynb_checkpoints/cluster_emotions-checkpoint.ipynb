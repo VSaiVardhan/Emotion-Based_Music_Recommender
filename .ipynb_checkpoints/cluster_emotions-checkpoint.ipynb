{
 "cells": [
  {
   "cell_type": "markdown",
   "id": "673d866f-dc70-4952-9304-4a17d1924545",
   "metadata": {},
   "source": [
    "## Emotion Clustering Analysis\n",
    "\n",
    "This notebook processes the GoEmotions dataset to cluster emotions into broader categories and visualize their distribution. The dataset is split into three parts, which are combined, processed to assign primary emotions and clusters, and then visualized."
   ]
  },
  {
   "cell_type": "markdown",
   "id": "bb36d225-c734-4196-9ecb-3eb5427a86c6",
   "metadata": {},
   "source": [
    "We import pandas to handle the dataset and perform data operations."
   ]
  },
  {
   "cell_type": "code",
   "execution_count": 1,
   "id": "dc35332c-515f-4d8e-8b38-736cc4fa5983",
   "metadata": {},
   "outputs": [],
   "source": [
    "import pandas as pd"
   ]
  },
  {
   "cell_type": "markdown",
   "id": "ab86e9d3-12bf-43a0-835f-f4dc0fcc011c",
   "metadata": {},
   "source": [
    "This section loads the three parts of the GoEmotions dataset (goemotions_1.csv, goemotions_2.csv, goemotions_3.csv) from the original_datasets directory into separate DataFrames."
   ]
  },
  {
   "cell_type": "code",
   "execution_count": 2,
   "id": "42b89881-da35-4959-a10b-65e29ee74f60",
   "metadata": {},
   "outputs": [],
   "source": [
    "df1 = pd.read_csv(\"original_datasets\\goemotions_1.csv\")\n",
    "df2 = pd.read_csv(\"original_datasets\\goemotions_2.csv\")\n",
    "df3 = pd.read_csv(\"original_datasets\\goemotions_3.csv\")"
   ]
  },
  {
   "cell_type": "markdown",
   "id": "b249d588-b859-48b7-b0af-5b02dcf0951b",
   "metadata": {},
   "source": [
    "The three DataFrames are concatenated into a single DataFrame, and the shape of the combined dataset is printed to verify the total number of rows and columns."
   ]
  },
  {
   "cell_type": "code",
   "execution_count": 3,
   "id": "8dec3dad-547b-4fa2-b97a-4de46e7bf20b",
   "metadata": {},
   "outputs": [
    {
     "name": "stdout",
     "output_type": "stream",
     "text": [
      "Combined shape: (211225, 37)\n"
     ]
    }
   ],
   "source": [
    "df = pd.concat([df1, df2, df3], ignore_index=True)\n",
    "print(\"Combined shape:\", df.shape)"
   ]
  },
  {
   "cell_type": "markdown",
   "id": "d142a19a-1f16-4402-b8c9-a0efca6434e8",
   "metadata": {},
   "source": [
    "This cell defines a list of emotion columns present in the dataset, which will be used to identify the primary emotion for each row."
   ]
  },
  {
   "cell_type": "code",
   "execution_count": 4,
   "id": "e1ed815c-7e1b-4b11-ad61-d0d680acc19d",
   "metadata": {},
   "outputs": [],
   "source": [
    "emotion_columns = [\n",
    "    'admiration', 'amusement', 'anger', 'annoyance', 'approval', 'caring', 'confusion',\n",
    "    'curiosity', 'desire', 'disappointment', 'disapproval', 'disgust', 'embarrassment',\n",
    "    'excitement', 'fear', 'gratitude', 'grief', 'joy', 'love', 'nervousness', 'optimism',\n",
    "    'pride', 'realization', 'relief', 'remorse', 'sadness', 'surprise', 'neutral'\n",
    "]"
   ]
  },
  {
   "cell_type": "markdown",
   "id": "b342f5f6-07cc-4519-b70a-b4fc1951713b",
   "metadata": {},
   "source": [
    "A function get_first_emotion is defined to assign the first emotion with a value of 1 in each row as the primary emotion. If no emotion is marked as 1, the row is labeled as 'neutral'. The result is stored in a new emotion column."
   ]
  },
  {
   "cell_type": "code",
   "execution_count": 5,
   "id": "2ea81b30-f82d-41a1-b835-0b772013b85c",
   "metadata": {
    "scrolled": true
   },
   "outputs": [],
   "source": [
    "def get_first_emotion(row):\n",
    "    for emo in emotion_columns:\n",
    "        if row[emo] == 1:\n",
    "            return emo\n",
    "    return 'neutral'\n",
    "\n",
    "df['emotion'] = df.apply(get_first_emotion, axis=1)"
   ]
  },
  {
   "cell_type": "markdown",
   "id": "ac423b3d-4416-4282-bb25-326ece79ec79",
   "metadata": {},
   "source": [
    "This section defines a mapping of individual emotions to broader clusters (e.g., 'happy', 'sad', 'angry', 'calm', 'anxious') to simplify analysis."
   ]
  },
  {
   "cell_type": "code",
   "execution_count": 6,
   "id": "905d4042-9fbb-4297-a3cf-a690e639e147",
   "metadata": {},
   "outputs": [],
   "source": [
    "emotion_cluster_map = {\n",
    "    \"happy\": [\n",
    "        'admiration', 'amusement', 'approval', 'excitement', 'gratitude',\n",
    "        'joy', 'love', 'optimism', 'pride'\n",
    "    ],\n",
    "    \"sad\": [\n",
    "        'disappointment', 'grief', 'remorse', 'sadness'\n",
    "    ],\n",
    "    \"angry\": [\n",
    "        'anger', 'annoyance', 'disapproval', 'disgust'\n",
    "    ],\n",
    "    \"calm\": [\n",
    "        'caring', 'relief', 'realization', 'neutral'\n",
    "    ],\n",
    "    \"anxious\": [\n",
    "        'confusion', 'curiosity', 'desire', 'embarrassment', 'fear', 'nervousness', 'surprise'\n",
    "    ]\n",
    "}"
   ]
  },
  {
   "cell_type": "markdown",
   "id": "a87ee911-b44f-4512-ad86-3a79526278df",
   "metadata": {},
   "source": [
    "Each primary emotion is mapped to its corresponding cluster using the emotion_cluster_map. A new emotion_cluster column is added to the DataFrame to store the cluster labels."
   ]
  },
  {
   "cell_type": "code",
   "execution_count": 7,
   "id": "25b2ae31-2e3a-48dd-a0ba-1ba2b4b7ff40",
   "metadata": {},
   "outputs": [],
   "source": [
    "flat_map = {}\n",
    "for cluster, emotions in emotion_cluster_map.items():\n",
    "    for emotion in emotions:\n",
    "        flat_map[emotion] = cluster\n",
    "\n",
    "df['emotion_cluster'] = df['emotion'].apply(lambda e: flat_map.get(e, 'unknown'))"
   ]
  },
  {
   "cell_type": "markdown",
   "id": "1bb1cf2b-4b5f-4d36-8668-b0fb16c7efcd",
   "metadata": {},
   "source": [
    "The processed dataset, containing the text, primary emotion, and emotion cluster, is sampled for inspection and saved to a CSV file (emotions_clustered.csv) for further use."
   ]
  },
  {
   "cell_type": "code",
   "execution_count": 8,
   "id": "3ba7d752-3216-49f9-85b2-1961ed83a886",
   "metadata": {},
   "outputs": [
    {
     "name": "stdout",
     "output_type": "stream",
     "text": [
      "                                                     text         emotion  \\\n",
      "189133                                         Not wrong.         neutral   \n",
      "157666  [NAME] looks like original [NAME] and [NAME] h...         neutral   \n",
      "177680  my ex's favorite thing to do on psychs was eat...         neutral   \n",
      "29725   Yeah, but what if he didn't have a camera? You...         neutral   \n",
      "159309  That better the case. It'll take the sting awa...        approval   \n",
      "209236  Society started going downhill at exactly the ...  disappointment   \n",
      "27142   And for pro-Syrian-rebel tweeting (which means...        optimism   \n",
      "18473                                  He's 34 years old.        approval   \n",
      "6293    (Stupid) * (how many times you think you can p...           anger   \n",
      "125042                                This hurts my brain       annoyance   \n",
      "\n",
      "       emotion_cluster  \n",
      "189133            calm  \n",
      "157666            calm  \n",
      "177680            calm  \n",
      "29725             calm  \n",
      "159309           happy  \n",
      "209236             sad  \n",
      "27142            happy  \n",
      "18473            happy  \n",
      "6293             angry  \n",
      "125042           angry  \n",
      "Final dataset saved as 'emotions_clustered.csv'\n"
     ]
    }
   ],
   "source": [
    "print(df[['text', 'emotion', 'emotion_cluster']].sample(10))\n",
    "\n",
    "df[['text', 'emotion', 'emotion_cluster']].to_csv(\"emotions_clustered.csv\", index=False)\n",
    "print(\"Final dataset saved as 'emotions_clustered.csv'\")"
   ]
  },
  {
   "cell_type": "markdown",
   "id": "8bf1acb3-5ee6-4bc2-b02e-2a13be7c0a1d",
   "metadata": {},
   "source": [
    "This section visualizes the distribution of emotion clusters using a bar plot created with matplotlib and seaborn. The plot shows the count of each emotion cluster in the dataset."
   ]
  },
  {
   "cell_type": "code",
   "execution_count": 9,
   "id": "29c69afb-19e5-4f04-9202-b2952d32bd5b",
   "metadata": {},
   "outputs": [
    {
     "data": {
      "image/png": "[encoded data removed]",
      "text/plain": [
       "<Figure size 800x500 with 1 Axes>"
      ]
     },
     "metadata": {},
     "output_type": "display_data"
    }
   ],
   "source": [
    "import matplotlib.pyplot as plt\n",
    "import seaborn as sns\n",
    "\n",
    "plt.figure(figsize=(8, 5))\n",
    "sns.countplot(data=df, x='emotion_cluster', order=df['emotion_cluster'].value_counts().index)\n",
    "plt.title(\"Distribution of Emotion Clusters\")\n",
    "plt.xlabel(\"Emotion Cluster\")\n",
    "plt.ylabel(\"Count\")\n",
    "plt.show()"
   ]
  }
 ],
 "metadata": {
  "kernelspec": {
   "display_name": "Python 3 (ipykernel)",
   "language": "python",
   "name": "python3"
  },
  "language_info": {
   "codemirror_mode": {
    "name": "ipython",
    "version": 3
   },
   "file_extension": ".py",
   "mimetype": "text/x-python",
   "name": "python",
   "nbconvert_exporter": "python",
   "pygments_lexer": "ipython3",
   "version": "3.13.5"
  }
 },
 "nbformat": 4,
 "nbformat_minor": 5
}
